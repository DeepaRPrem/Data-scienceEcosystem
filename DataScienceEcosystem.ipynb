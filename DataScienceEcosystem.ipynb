{
 "cells": [
  {
   "cell_type": "markdown",
   "id": "ef57a725",
   "metadata": {},
   "source": [
    "# Data Science Tools and Ecosystem"
   ]
  },
  {
   "cell_type": "markdown",
   "id": "961bbdb2",
   "metadata": {},
   "source": [
    "## In this notebook, Data Science Tools and Ecosystem are summarized."
   ]
  },
  {
   "cell_type": "markdown",
   "id": "90e620d7",
   "metadata": {},
   "source": [
    "### Some of the popular languages that Data Scientists use are:\n",
    "     1. Python\n",
    "     2. R\n",
    "     3. Julia"
   ]
  },
  {
   "cell_type": "markdown",
   "id": "f941017e",
   "metadata": {},
   "source": [
    "### Some of the commonly used libraries used by Data Scientists include:\n",
    "* Pandas\n",
    "* Numpy\n",
    "* Scipy\n",
    "* Tensorflow\n",
    "* Keras\n",
    "* Seaborn"
   ]
  },
  {
   "cell_type": "markdown",
   "id": "b0e9b249",
   "metadata": {},
   "source": []
  },
  {
   "cell_type": "markdown",
   "id": "8b6fd151",
   "metadata": {},
   "source": [
    "| DataScience Tools|\n",
    "|------------------|\n",
    "|Jupyter Notebook |\n",
    "|R Studio         |\n",
    "|IBM Watson       |"
   ]
  },
  {
   "cell_type": "markdown",
   "id": "a85e2946",
   "metadata": {},
   "source": [
    "### Below are a few examples of evaluating arithmetic expressions in Python:\n",
    "    x=3+4\n",
    "    print(x)"
   ]
  },
  {
   "cell_type": "code",
   "execution_count": 3,
   "id": "4478d62c",
   "metadata": {},
   "outputs": [
    {
     "name": "stdout",
     "output_type": "stream",
     "text": [
      "17\n"
     ]
    }
   ],
   "source": [
    "# This a simple arithmetic expression to mutiply then add integers\n",
    "y= (3*4)+5\n",
    "print(y)"
   ]
  },
  {
   "cell_type": "code",
   "execution_count": 4,
   "id": "d01d515f",
   "metadata": {},
   "outputs": [
    {
     "name": "stdout",
     "output_type": "stream",
     "text": [
      "3.3333333333333335\n"
     ]
    }
   ],
   "source": [
    "# This will convert 200 minutes to hours by diving by 60\n",
    "min=200\n",
    "hours=min/60\n",
    "print(hours)"
   ]
  },
  {
   "cell_type": "markdown",
   "id": "5d8855ac",
   "metadata": {},
   "source": [
    "**Objectives of IBM Datascience Professional  course**\n",
    "* Overview  of Data science tools\n",
    "* languages of DS\n",
    "* libraries, APIs\n",
    "* Jupyter Project\n",
    "* Data science Tasks\n",
    "* Open Source Data Management\n"
   ]
  },
  {
   "cell_type": "markdown",
   "id": "ef9f6934",
   "metadata": {},
   "source": [
    "## Author\n",
    "    Deepa R"
   ]
  },
  {
   "cell_type": "code",
   "execution_count": null,
   "id": "ac9f756a",
   "metadata": {},
   "outputs": [],
   "source": []
  }
 ],
 "metadata": {
  "kernelspec": {
   "display_name": "Python 3 (ipykernel)",
   "language": "python",
   "name": "python3"
  },
  "language_info": {
   "codemirror_mode": {
    "name": "ipython",
    "version": 3
   },
   "file_extension": ".py",
   "mimetype": "text/x-python",
   "name": "python",
   "nbconvert_exporter": "python",
   "pygments_lexer": "ipython3",
   "version": "3.9.12"
  }
 },
 "nbformat": 4,
 "nbformat_minor": 5
}
